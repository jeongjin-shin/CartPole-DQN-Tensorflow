{
  "nbformat": 4,
  "nbformat_minor": 0,
  "metadata": {
    "colab": {
      "name": "cartpole-dqn.ipynb",
      "provenance": [],
      "authorship_tag": "ABX9TyNPsE0Z29eTA8Fu5bGRfhuE",
      "include_colab_link": true
    },
    "kernelspec": {
      "display_name": "Python 3",
      "name": "python3"
    },
    "language_info": {
      "name": "python"
    },
    "accelerator": "GPU"
  },
  "cells": [
    {
      "cell_type": "markdown",
      "metadata": {
        "id": "view-in-github",
        "colab_type": "text"
      },
      "source": [
        "<a href=\"https://colab.research.google.com/github/jeongjin-shin/CartPole-DQN-Tensorflow/blob/main/cartpole_dqn.ipynb\" target=\"_parent\"><img src=\"https://colab.research.google.com/assets/colab-badge.svg\" alt=\"Open In Colab\"/></a>"
      ]
    },
    {
      "cell_type": "code",
      "metadata": {
        "id": "hXuwQ6nZmRi3"
      },
      "source": [
        "import tensorflow as tf\n",
        "import keras\n",
        "import numpy as np\n",
        "import gym\n",
        "import random\n",
        "from keras.layers import *"
      ],
      "execution_count": 1,
      "outputs": []
    },
    {
      "cell_type": "code",
      "metadata": {
        "id": "fhFwOvI3mXre"
      },
      "source": [
        "model = keras.models.Sequential()\n",
        "\n",
        "model.add(Dense(12,activation = 'tanh',input_shape = (4,)))\n",
        "model.add(Dense(2,activation = 'linear')) "
      ],
      "execution_count": 2,
      "outputs": []
    },
    {
      "cell_type": "code",
      "metadata": {
        "id": "TOae8X6NmWBv"
      },
      "source": [
        "model.compile(optimizer = 'adam',loss = 'MSE',metrics = ['accuracy'])"
      ],
      "execution_count": 4,
      "outputs": []
    },
    {
      "cell_type": "code",
      "metadata": {
        "id": "X8YZXBXAdAlQ"
      },
      "source": [
        "model= keras.models.load_model(\"cartpole-dqn490.h5\")"
      ],
      "execution_count": 9,
      "outputs": []
    },
    {
      "cell_type": "code",
      "metadata": {
        "id": "gYk_R_58mbj9"
      },
      "source": [
        "env = gym.make(\"CartPole-v1\")"
      ],
      "execution_count": 10,
      "outputs": []
    },
    {
      "cell_type": "code",
      "metadata": {
        "colab": {
          "base_uri": "https://localhost:8080/"
        },
        "id": "PnbZCMgVmckY",
        "outputId": "e24ca934-8e79-435d-ea25-fe4bf7fc09e1"
      },
      "source": [
        "model.summary()"
      ],
      "execution_count": 11,
      "outputs": [
        {
          "output_type": "stream",
          "name": "stdout",
          "text": [
            "Model: \"sequential\"\n",
            "_________________________________________________________________\n",
            " Layer (type)                Output Shape              Param #   \n",
            "=================================================================\n",
            " dense (Dense)               (None, 12)                60        \n",
            "                                                                 \n",
            " dense_1 (Dense)             (None, 2)                 26        \n",
            "                                                                 \n",
            "=================================================================\n",
            "Total params: 86\n",
            "Trainable params: 86\n",
            "Non-trainable params: 0\n",
            "_________________________________________________________________\n"
          ]
        }
      ]
    },
    {
      "cell_type": "code",
      "metadata": {
        "id": "DzEU9TCxmd26"
      },
      "source": [
        "def preprocessing(state):\n",
        "    return np.reshape(state,(1,4))"
      ],
      "execution_count": 12,
      "outputs": []
    },
    {
      "cell_type": "code",
      "metadata": {
        "colab": {
          "base_uri": "https://localhost:8080/"
        },
        "id": "Sfa5U6hWmfCH",
        "outputId": "4d06f80c-ddb6-4d02-9b80-047be6f8c517"
      },
      "source": [
        "replay_mem = []\n",
        "replay_size = 32\n",
        "reward_list = []\n",
        "local_mean = list()\n",
        "for episode in range(490,2000):\n",
        "\n",
        "    done = False\n",
        "    state = env.reset()\n",
        "    count = 0\n",
        "    reward_tot = 0\n",
        "    model.save(\"cartpole-dqn.h5\")\n",
        "\n",
        "    while not done:\n",
        "        count += 1\n",
        "        e = (1/(episode/200+1))\n",
        "        \n",
        "        \n",
        "        #epslion greedy search\n",
        "        Q = model.predict(preprocessing(state))\n",
        "        if e>np.random.rand(1):\n",
        "            action = env.action_space.sample()\n",
        "        else:\n",
        "            action = np.argmax(Q)\n",
        "            \n",
        "            \n",
        "        #take_action and set reward\n",
        "        state_next, reward, done, info = env.step(action)\n",
        "        if done:\n",
        "            reward = - 100\n",
        "            \n",
        "        \n",
        "        #replay_mem\n",
        "        replay_mem.append([state,action,reward,state_next,done])\n",
        "        \n",
        "        if len(replay_mem)>2048:\n",
        "            del replay_mem[0]\n",
        "            \n",
        "            \n",
        "        state = state_next\n",
        "        reward_tot += reward\n",
        "        state = state_next\n",
        "        \n",
        "        Q_list = []\n",
        "        state_list = []\n",
        "        \n",
        "        \n",
        "        #set this_replay_Size\n",
        "        if len(replay_mem)<replay_size:\n",
        "            this_replay_size = len(replay_mem)\n",
        "        else:\n",
        "            this_replay_size = replay_size\n",
        "            \n",
        "            \n",
        "        #sample random batch from replay_memory\n",
        "        for sample in random.sample(replay_mem,this_replay_size):\n",
        "            state_m,action_m,reward_m,state_next_m,done_m = sample\n",
        "            if done:\n",
        "                Q[0,action] = reward_m\n",
        "            else:\n",
        "                Q_new = model.predict(preprocessing(state_next_m))\n",
        "                Q[0,action] = reward_m + 0.97*np.max(Q_new)\n",
        "            Q_list.append(Q)\n",
        "            state_list.append(state_m)\n",
        "              \n",
        "        #convert to nupmy array and train\n",
        "        Q_list = np.array(Q_list)        \n",
        "        state_list = np.array(state_list)\n",
        "        \n",
        "        hist = model.fit(state_list,Q_list,epochs = 5,verbose = 0)\n",
        "        #print(\"Done :\",done,\"     Reward :\",reward,\"     Reward_total :\",reward_tot)\n",
        "    \n",
        "    local_mean.append(reward_tot)\n",
        "    reward_list.append(reward_tot)\n",
        "    if episode%10 == 0:\n",
        "        print(\"Episode :\",episode+1,\"     Reward_total :\", reward_tot,\"     Reward_local_mean :\",np.mean(local_mean))\n",
        "        local_mean = list()\n",
        "        \n",
        "print(\"*******End Learning\")"
      ],
      "execution_count": null,
      "outputs": [
        {
          "output_type": "stream",
          "name": "stdout",
          "text": [
            "Episode : 491      Reward_total : -87.0      Reward_local_mean : -87.0\n",
            "Episode : 501      Reward_total : -90.0      Reward_local_mean : -89.8\n",
            "Episode : 511      Reward_total : -91.0      Reward_local_mean : -86.9\n",
            "Episode : 521      Reward_total : -90.0      Reward_local_mean : -89.6\n",
            "Episode : 531      Reward_total : -84.0      Reward_local_mean : -82.8\n",
            "Episode : 541      Reward_total : -89.0      Reward_local_mean : -88.5\n",
            "Episode : 551      Reward_total : -92.0      Reward_local_mean : -90.0\n",
            "Episode : 561      Reward_total : -90.0      Reward_local_mean : -90.6\n",
            "Episode : 571      Reward_total : -91.0      Reward_local_mean : -90.5\n",
            "Episode : 581      Reward_total : -92.0      Reward_local_mean : -89.6\n",
            "Episode : 591      Reward_total : -92.0      Reward_local_mean : -89.9\n",
            "Episode : 601      Reward_total : -89.0      Reward_local_mean : -89.9\n",
            "Episode : 611      Reward_total : -85.0      Reward_local_mean : -87.1\n",
            "Episode : 621      Reward_total : -91.0      Reward_local_mean : -90.3\n",
            "Episode : 631      Reward_total : -90.0      Reward_local_mean : -89.2\n",
            "Episode : 641      Reward_total : -92.0      Reward_local_mean : -89.5\n",
            "Episode : 651      Reward_total : -75.0      Reward_local_mean : -89.6\n",
            "Episode : 661      Reward_total : -91.0      Reward_local_mean : -90.4\n",
            "Episode : 671      Reward_total : -89.0      Reward_local_mean : -89.0\n",
            "Episode : 681      Reward_total : -89.0      Reward_local_mean : -89.7\n",
            "Episode : 691      Reward_total : -91.0      Reward_local_mean : -89.4\n",
            "Episode : 701      Reward_total : -88.0      Reward_local_mean : -89.5\n",
            "Episode : 711      Reward_total : -91.0      Reward_local_mean : -89.7\n",
            "Episode : 721      Reward_total : -91.0      Reward_local_mean : -90.6\n",
            "Episode : 731      Reward_total : -91.0      Reward_local_mean : -91.6\n",
            "Episode : 741      Reward_total : -91.0      Reward_local_mean : -90.7\n",
            "Episode : 751      Reward_total : -90.0      Reward_local_mean : -89.7\n",
            "Episode : 761      Reward_total : -88.0      Reward_local_mean : -90.1\n",
            "Episode : 771      Reward_total : -91.0      Reward_local_mean : -91.2\n",
            "Episode : 781      Reward_total : -90.0      Reward_local_mean : -89.0\n",
            "Episode : 791      Reward_total : -91.0      Reward_local_mean : -90.5\n",
            "Episode : 801      Reward_total : -90.0      Reward_local_mean : -89.3\n",
            "Episode : 811      Reward_total : -92.0      Reward_local_mean : -89.2\n",
            "Episode : 821      Reward_total : -90.0      Reward_local_mean : -90.8\n",
            "Episode : 831      Reward_total : -92.0      Reward_local_mean : -89.1\n",
            "Episode : 841      Reward_total : -91.0      Reward_local_mean : -90.5\n",
            "Episode : 851      Reward_total : -91.0      Reward_local_mean : -90.5\n",
            "Episode : 861      Reward_total : -92.0      Reward_local_mean : -91.4\n",
            "Episode : 871      Reward_total : -91.0      Reward_local_mean : -90.4\n",
            "Episode : 881      Reward_total : -88.0      Reward_local_mean : -88.8\n",
            "Episode : 891      Reward_total : -90.0      Reward_local_mean : -88.8\n",
            "Episode : 901      Reward_total : -92.0      Reward_local_mean : -89.7\n",
            "Episode : 911      Reward_total : -92.0      Reward_local_mean : -90.7\n",
            "Episode : 921      Reward_total : -91.0      Reward_local_mean : -90.5\n",
            "Episode : 931      Reward_total : -91.0      Reward_local_mean : -89.5\n",
            "Episode : 941      Reward_total : -87.0      Reward_local_mean : -90.3\n",
            "Episode : 951      Reward_total : -92.0      Reward_local_mean : -90.8\n",
            "Episode : 961      Reward_total : -90.0      Reward_local_mean : -90.5\n",
            "Episode : 971      Reward_total : -91.0      Reward_local_mean : -90.0\n",
            "Episode : 981      Reward_total : -88.0      Reward_local_mean : -88.2\n"
          ]
        }
      ]
    }
  ]
}